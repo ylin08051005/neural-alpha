{
 "cells": [
  {
   "cell_type": "code",
   "execution_count": 63,
   "metadata": {},
   "outputs": [],
   "source": [
    "import os\n",
    "from glob import glob\n",
    "\n",
    "import numpy as np\n",
    "import pandas as pd\n",
    "import matplotlib.pyplot as plt\n",
    "from tqdm import tqdm\n",
    "import torch\n",
    "import torchsort\n",
    "from torch import nn\n",
    "from torch.utils.data import Dataset, DataLoader"
   ]
  },
  {
   "cell_type": "code",
   "execution_count": 2,
   "metadata": {},
   "outputs": [
    {
     "name": "stderr",
     "output_type": "stream",
     "text": [
      "1087it [00:04, 247.38it/s]\n"
     ]
    }
   ],
   "source": [
    "folder_path = os.readlink(\"data/symlink\")\n",
    "stock = {}\n",
    "\n",
    "for idx, path in tqdm(enumerate(glob(f\"{folder_path}/*.csv\"))):\n",
    "    curr_df = pd.read_csv(path)\n",
    "    stock_name = path.split(\"/\")[-1].split(\".\")[0]\n",
    "\n",
    "    if len(curr_df):\n",
    "        stock[stock_name] = curr_df"
   ]
  },
  {
   "cell_type": "code",
   "execution_count": 3,
   "metadata": {},
   "outputs": [],
   "source": [
    "subset = stock[\"2330\"]"
   ]
  },
  {
   "cell_type": "code",
   "execution_count": 25,
   "metadata": {},
   "outputs": [],
   "source": [
    "from typing import Union\n",
    "\n",
    "\n",
    "def sharpe_ratio(ret: Union[pd.Series, np.ndarray], rf: float) -> float:\n",
    "    mean = ret.mean()\n",
    "    std = ret.std()\n",
    "\n",
    "    if std == 0:\n",
    "        return 0\n",
    "\n",
    "    return (mean - rf) / std\n",
    "\n",
    "\n",
    "def get_next_n_day_sharpe(sequence: pd.Series, window: int):\n",
    "    sharpe_ratios = [None] * len(sequence)\n",
    "\n",
    "    for i in range(len(sequence) - window):\n",
    "        next_window_ret = sequence[i + 1 : i + window + 1]\n",
    "        sharpe_ratios[i] = sharpe_ratio(next_window_ret, 0)\n",
    "\n",
    "    return pd.Series(sharpe_ratios, index=sequence.index)\n",
    "\n",
    "\n",
    "def get_next_n_day_avgret(sequence: pd.Series, window: int):\n",
    "    avg_rets = [None] * len(sequence)\n",
    "\n",
    "    for i in range(len(sequence) - window):\n",
    "        next_window_ret = sequence[i + 1 : i + window + 1]\n",
    "\n",
    "        if window > 1:\n",
    "            avg_rets[i] = next_window_ret.mean()\n",
    "        else:\n",
    "            avg_rets[i] = next_window_ret.values[0]\n",
    "\n",
    "    return pd.Series(avg_rets).fillna(0)"
   ]
  },
  {
   "cell_type": "code",
   "execution_count": null,
   "metadata": {},
   "outputs": [],
   "source": [
    "subset[\"ret\"] = subset[\"收盤價\"].pct_change().fillna(0)\n",
    "subset[\"date\"] = pd.to_datetime(subset[\"date\"])\n",
    "subset[\"label\"] = get_next_n_day_avgret(subset[\"ret\"], 1)"
   ]
  },
  {
   "cell_type": "code",
   "execution_count": 28,
   "metadata": {},
   "outputs": [
    {
     "data": {
      "text/html": [
       "<div>\n",
       "<style scoped>\n",
       "    .dataframe tbody tr th:only-of-type {\n",
       "        vertical-align: middle;\n",
       "    }\n",
       "\n",
       "    .dataframe tbody tr th {\n",
       "        vertical-align: top;\n",
       "    }\n",
       "\n",
       "    .dataframe thead th {\n",
       "        text-align: right;\n",
       "    }\n",
       "</style>\n",
       "<table border=\"1\" class=\"dataframe\">\n",
       "  <thead>\n",
       "    <tr style=\"text-align: right;\">\n",
       "      <th></th>\n",
       "      <th>date</th>\n",
       "      <th>證券代號</th>\n",
       "      <th>開盤價</th>\n",
       "      <th>最高價</th>\n",
       "      <th>最低價</th>\n",
       "      <th>收盤價</th>\n",
       "      <th>成交股數</th>\n",
       "      <th>adj_close</th>\n",
       "      <th>ret</th>\n",
       "      <th>label</th>\n",
       "    </tr>\n",
       "  </thead>\n",
       "  <tbody>\n",
       "    <tr>\n",
       "      <th>0</th>\n",
       "      <td>2007-04-23</td>\n",
       "      <td>2330</td>\n",
       "      <td>68.0</td>\n",
       "      <td>69.2</td>\n",
       "      <td>67.9</td>\n",
       "      <td>68.6</td>\n",
       "      <td>50260857.0</td>\n",
       "      <td>76.149633</td>\n",
       "      <td>0.000000</td>\n",
       "      <td>0.017493</td>\n",
       "    </tr>\n",
       "    <tr>\n",
       "      <th>1</th>\n",
       "      <td>2007-04-24</td>\n",
       "      <td>2330</td>\n",
       "      <td>68.8</td>\n",
       "      <td>70.0</td>\n",
       "      <td>68.6</td>\n",
       "      <td>69.8</td>\n",
       "      <td>61860515.0</td>\n",
       "      <td>77.481696</td>\n",
       "      <td>0.017493</td>\n",
       "      <td>-0.007163</td>\n",
       "    </tr>\n",
       "    <tr>\n",
       "      <th>2</th>\n",
       "      <td>2007-04-25</td>\n",
       "      <td>2330</td>\n",
       "      <td>69.4</td>\n",
       "      <td>69.7</td>\n",
       "      <td>68.7</td>\n",
       "      <td>69.3</td>\n",
       "      <td>26492554.0</td>\n",
       "      <td>76.926670</td>\n",
       "      <td>-0.007163</td>\n",
       "      <td>0.008658</td>\n",
       "    </tr>\n",
       "    <tr>\n",
       "      <th>3</th>\n",
       "      <td>2007-04-26</td>\n",
       "      <td>2330</td>\n",
       "      <td>70.4</td>\n",
       "      <td>70.5</td>\n",
       "      <td>69.7</td>\n",
       "      <td>69.9</td>\n",
       "      <td>58301539.0</td>\n",
       "      <td>77.592702</td>\n",
       "      <td>0.008658</td>\n",
       "      <td>-0.012876</td>\n",
       "    </tr>\n",
       "    <tr>\n",
       "      <th>4</th>\n",
       "      <td>2007-04-27</td>\n",
       "      <td>2330</td>\n",
       "      <td>69.9</td>\n",
       "      <td>70.0</td>\n",
       "      <td>68.7</td>\n",
       "      <td>69.0</td>\n",
       "      <td>36622773.0</td>\n",
       "      <td>76.593654</td>\n",
       "      <td>-0.012876</td>\n",
       "      <td>-0.004348</td>\n",
       "    </tr>\n",
       "  </tbody>\n",
       "</table>\n",
       "</div>"
      ],
      "text/plain": [
       "        date  證券代號   開盤價   最高價   最低價   收盤價        成交股數  adj_close       ret  \\\n",
       "0 2007-04-23  2330  68.0  69.2  67.9  68.6  50260857.0  76.149633  0.000000   \n",
       "1 2007-04-24  2330  68.8  70.0  68.6  69.8  61860515.0  77.481696  0.017493   \n",
       "2 2007-04-25  2330  69.4  69.7  68.7  69.3  26492554.0  76.926670 -0.007163   \n",
       "3 2007-04-26  2330  70.4  70.5  69.7  69.9  58301539.0  77.592702  0.008658   \n",
       "4 2007-04-27  2330  69.9  70.0  68.7  69.0  36622773.0  76.593654 -0.012876   \n",
       "\n",
       "      label  \n",
       "0  0.017493  \n",
       "1 -0.007163  \n",
       "2  0.008658  \n",
       "3 -0.012876  \n",
       "4 -0.004348  "
      ]
     },
     "execution_count": 28,
     "metadata": {},
     "output_type": "execute_result"
    }
   ],
   "source": [
    "subset.head()"
   ]
  },
  {
   "cell_type": "code",
   "execution_count": 29,
   "metadata": {},
   "outputs": [],
   "source": [
    "# 250d train, 125d valid, 20d test\n",
    "train_scale, val_scale, test_scale = 250, 20, 125\n",
    "tot_scale = train_scale + val_scale + test_scale\n",
    "train, val, test = [], [], []"
   ]
  },
  {
   "cell_type": "code",
   "execution_count": 38,
   "metadata": {},
   "outputs": [],
   "source": [
    "feature_names = [\"開盤價\", \"最高價\", \"最低價\", \"收盤價\", \"成交股數\"]\n",
    "label_name = [\"label\"]"
   ]
  },
  {
   "cell_type": "code",
   "execution_count": 157,
   "metadata": {},
   "outputs": [],
   "source": [
    "first_train = subset.iloc[:train_scale][feature_names + label_name]\n",
    "window = 20\n",
    "window_data = []\n",
    "\n",
    "for i in range(len(first_train) - window):\n",
    "    window_data.append(first_train.iloc[i : i + window])\n",
    "\n",
    "window_data = np.array(window_data)"
   ]
  },
  {
   "cell_type": "code",
   "execution_count": 158,
   "metadata": {},
   "outputs": [
    {
     "data": {
      "text/plain": [
       "(230, 20, 6)"
      ]
     },
     "execution_count": 158,
     "metadata": {},
     "output_type": "execute_result"
    }
   ],
   "source": [
    "window_data.shape"
   ]
  },
  {
   "cell_type": "code",
   "execution_count": 159,
   "metadata": {},
   "outputs": [],
   "source": [
    "class TrainAlphaDataset(Dataset):\n",
    "    def __init__(self, data: np.ndarray) -> None:\n",
    "        self.data = data\n",
    "        self.features = data[:, :, :-1]\n",
    "        self.labels = data[:, :, -1]\n",
    "        self._feature_normalization()\n",
    "\n",
    "    def _feature_normalization(self):\n",
    "        self.features = (\n",
    "            self.features - self.features.mean(axis=0)\n",
    "        ) / self.features.std(axis=0)\n",
    "\n",
    "    def __len__(self):\n",
    "        return len(self.data)\n",
    "\n",
    "    def __getitem__(self, idx):\n",
    "        return self.features[idx], self.labels[idx]"
   ]
  },
  {
   "cell_type": "code",
   "execution_count": 160,
   "metadata": {},
   "outputs": [],
   "source": [
    "first_train_dataset = TrainAlphaDataset(window_data)\n",
    "first_train_loader = DataLoader(first_train_dataset, batch_size=1, shuffle=True)"
   ]
  },
  {
   "cell_type": "code",
   "execution_count": 161,
   "metadata": {},
   "outputs": [],
   "source": [
    "from typing import Literal\n",
    "\n",
    "import torch\n",
    "from torch import nn\n",
    "\n",
    "\n",
    "class ICLoss(nn.Module):\n",
    "    def __init__(self, correlation_type: Literal = [\"pearson\", \"spearman\"]):\n",
    "        \"\"\"\n",
    "        Initialize the loss function.\n",
    "        :param correlation_type: Type of correlation ('pearson' or 'spearman'). Default is 'pearson'.\n",
    "        \"\"\"\n",
    "        super().__init__()\n",
    "        assert correlation_type in [\n",
    "            \"pearson\",\n",
    "            \"spearman\",\n",
    "        ], \"correlation_type must be 'pearson' or 'spearman'.\"\n",
    "        self.correlation_type = correlation_type\n",
    "\n",
    "    def forward(self, predictions, targets):\n",
    "        \"\"\"\n",
    "        Compute the loss to maximize absolute Information Coefficient (IC).\n",
    "        :param predictions: Tensor of model predictions (batch_size,).\n",
    "        :param targets: Tensor of true values (batch_size,).\n",
    "        :return: Loss value (to minimize).\n",
    "        \"\"\"\n",
    "\n",
    "        if self.correlation_type == \"pearson\":\n",
    "            pred_mean = torch.mean(predictions)\n",
    "            target_mean = torch.mean(targets)\n",
    "            cov = torch.sum((predictions - pred_mean) * (targets - target_mean))\n",
    "            pred_std = torch.std(predictions)\n",
    "            target_std = torch.std(targets)\n",
    "            correlation = cov / (pred_std * target_std + 1e-6)\n",
    "\n",
    "        elif self.correlation_type == \"spearman\":\n",
    "            pred_rank = torchsort.soft_rank(predictions)\n",
    "            target_rank = torchsort.soft_rank(targets)\n",
    "            pred_n = pred_rank - pred_rank.mean()\n",
    "            target_n = target_rank - target_rank.mean()\n",
    "            pred_n = pred_n / pred_n.norm()\n",
    "            target_n = target_n / target_n.norm()\n",
    "            correlation = (pred_n * target_n).sum()\n",
    "\n",
    "        loss = -torch.abs(correlation)\n",
    "        return loss"
   ]
  },
  {
   "cell_type": "code",
   "execution_count": 162,
   "metadata": {},
   "outputs": [],
   "source": [
    "class NeuralAlpha(nn.Module):\n",
    "    def __init__(self, input_dim, hidden_dim, output_dim, dropout):\n",
    "        super().__init__()\n",
    "        self.model = nn.Sequential(\n",
    "            nn.Linear(input_dim, hidden_dim),\n",
    "            nn.ReLU(),\n",
    "            nn.LayerNorm(hidden_dim),\n",
    "            nn.Dropout(dropout),\n",
    "            nn.Linear(hidden_dim, output_dim),\n",
    "        )\n",
    "\n",
    "    def forward(self, x):\n",
    "        return self.model(x)"
   ]
  },
  {
   "cell_type": "code",
   "execution_count": 166,
   "metadata": {},
   "outputs": [],
   "source": [
    "class Args:\n",
    "    def __init__(self):\n",
    "        self.hidden_dim = 128\n",
    "        self.output_dim = 1\n",
    "        self.n_epochs = 50\n",
    "        self.lr = 1e-3\n",
    "\n",
    "\n",
    "args = Args()\n",
    "model = NeuralAlpha(window_data.shape[-1] - 1, args.hidden_dim, args.output_dim, 0.5)\n",
    "criterion = ICLoss(correlation_type=\"spearman\")\n",
    "# criterion = nn.MSELoss()\n",
    "optimizer = torch.optim.Adam(model.parameters(), lr=args.lr)"
   ]
  },
  {
   "cell_type": "code",
   "execution_count": 168,
   "metadata": {},
   "outputs": [
    {
     "name": "stderr",
     "output_type": "stream",
     "text": [
      "  2%|▏         | 1/50 [00:00<00:15,  3.08it/s]"
     ]
    },
    {
     "name": "stdout",
     "output_type": "stream",
     "text": [
      "Epoch 0 | Train Loss: -0.5558868295472601\n"
     ]
    },
    {
     "name": "stderr",
     "output_type": "stream",
     "text": [
      "  4%|▍         | 2/50 [00:00<00:15,  3.13it/s]"
     ]
    },
    {
     "name": "stdout",
     "output_type": "stream",
     "text": [
      "Epoch 1 | Train Loss: -0.5553111881665561\n"
     ]
    },
    {
     "name": "stderr",
     "output_type": "stream",
     "text": [
      "  6%|▌         | 3/50 [00:00<00:14,  3.13it/s]"
     ]
    },
    {
     "name": "stdout",
     "output_type": "stream",
     "text": [
      "Epoch 2 | Train Loss: -0.5559055832660068\n"
     ]
    },
    {
     "name": "stderr",
     "output_type": "stream",
     "text": [
      "  8%|▊         | 4/50 [00:01<00:14,  3.15it/s]"
     ]
    },
    {
     "name": "stdout",
     "output_type": "stream",
     "text": [
      "Epoch 3 | Train Loss: -0.548792903708375\n"
     ]
    },
    {
     "name": "stderr",
     "output_type": "stream",
     "text": [
      " 10%|█         | 5/50 [00:01<00:14,  3.12it/s]"
     ]
    },
    {
     "name": "stdout",
     "output_type": "stream",
     "text": [
      "Epoch 4 | Train Loss: -0.5544002009798651\n"
     ]
    },
    {
     "name": "stderr",
     "output_type": "stream",
     "text": [
      " 12%|█▏        | 6/50 [00:01<00:13,  3.26it/s]"
     ]
    },
    {
     "name": "stdout",
     "output_type": "stream",
     "text": [
      "Epoch 5 | Train Loss: -0.5574514596682528\n"
     ]
    },
    {
     "name": "stderr",
     "output_type": "stream",
     "text": [
      " 14%|█▍        | 7/50 [00:02<00:12,  3.41it/s]"
     ]
    },
    {
     "name": "stdout",
     "output_type": "stream",
     "text": [
      "Epoch 6 | Train Loss: -0.5637235919985434\n"
     ]
    },
    {
     "name": "stderr",
     "output_type": "stream",
     "text": [
      " 16%|█▌        | 8/50 [00:02<00:11,  3.51it/s]"
     ]
    },
    {
     "name": "stdout",
     "output_type": "stream",
     "text": [
      "Epoch 7 | Train Loss: -0.5693113582613676\n"
     ]
    },
    {
     "name": "stderr",
     "output_type": "stream",
     "text": [
      " 18%|█▊        | 9/50 [00:02<00:11,  3.58it/s]"
     ]
    },
    {
     "name": "stdout",
     "output_type": "stream",
     "text": [
      "Epoch 8 | Train Loss: -0.56189568011981\n"
     ]
    },
    {
     "name": "stderr",
     "output_type": "stream",
     "text": [
      " 20%|██        | 10/50 [00:02<00:10,  3.64it/s]"
     ]
    },
    {
     "name": "stdout",
     "output_type": "stream",
     "text": [
      "Epoch 9 | Train Loss: -0.558287047210109\n"
     ]
    },
    {
     "name": "stderr",
     "output_type": "stream",
     "text": [
      " 22%|██▏       | 11/50 [00:03<00:10,  3.69it/s]"
     ]
    },
    {
     "name": "stdout",
     "output_type": "stream",
     "text": [
      "Epoch 10 | Train Loss: -0.5718779959675411\n"
     ]
    },
    {
     "name": "stderr",
     "output_type": "stream",
     "text": [
      " 24%|██▍       | 12/50 [00:03<00:10,  3.71it/s]"
     ]
    },
    {
     "name": "stdout",
     "output_type": "stream",
     "text": [
      "Epoch 11 | Train Loss: -0.5696520335081479\n"
     ]
    },
    {
     "name": "stderr",
     "output_type": "stream",
     "text": [
      " 26%|██▌       | 13/50 [00:03<00:09,  3.73it/s]"
     ]
    },
    {
     "name": "stdout",
     "output_type": "stream",
     "text": [
      "Epoch 12 | Train Loss: -0.5673199440960003\n"
     ]
    },
    {
     "name": "stderr",
     "output_type": "stream",
     "text": [
      " 28%|██▊       | 14/50 [00:04<00:09,  3.75it/s]"
     ]
    },
    {
     "name": "stdout",
     "output_type": "stream",
     "text": [
      "Epoch 13 | Train Loss: -0.5745666960011357\n"
     ]
    },
    {
     "name": "stderr",
     "output_type": "stream",
     "text": [
      " 30%|███       | 15/50 [00:04<00:09,  3.75it/s]"
     ]
    },
    {
     "name": "stdout",
     "output_type": "stream",
     "text": [
      "Epoch 14 | Train Loss: -0.5755582585525901\n"
     ]
    },
    {
     "name": "stderr",
     "output_type": "stream",
     "text": [
      " 32%|███▏      | 16/50 [00:04<00:09,  3.72it/s]"
     ]
    },
    {
     "name": "stdout",
     "output_type": "stream",
     "text": [
      "Epoch 15 | Train Loss: -0.5816632326044466\n"
     ]
    },
    {
     "name": "stderr",
     "output_type": "stream",
     "text": [
      " 34%|███▍      | 17/50 [00:04<00:08,  3.75it/s]"
     ]
    },
    {
     "name": "stdout",
     "output_type": "stream",
     "text": [
      "Epoch 16 | Train Loss: -0.5822327381323861\n"
     ]
    },
    {
     "name": "stderr",
     "output_type": "stream",
     "text": [
      " 36%|███▌      | 18/50 [00:05<00:08,  3.77it/s]"
     ]
    },
    {
     "name": "stdout",
     "output_type": "stream",
     "text": [
      "Epoch 17 | Train Loss: -0.5860198752873618\n"
     ]
    },
    {
     "name": "stderr",
     "output_type": "stream",
     "text": [
      " 38%|███▊      | 19/50 [00:05<00:08,  3.70it/s]"
     ]
    },
    {
     "name": "stdout",
     "output_type": "stream",
     "text": [
      "Epoch 18 | Train Loss: -0.5727129515665381\n"
     ]
    },
    {
     "name": "stderr",
     "output_type": "stream",
     "text": [
      " 40%|████      | 20/50 [00:05<00:08,  3.50it/s]"
     ]
    },
    {
     "name": "stdout",
     "output_type": "stream",
     "text": [
      "Epoch 19 | Train Loss: -0.5914458381902913\n"
     ]
    },
    {
     "name": "stderr",
     "output_type": "stream",
     "text": [
      " 42%|████▏     | 21/50 [00:05<00:08,  3.39it/s]"
     ]
    },
    {
     "name": "stdout",
     "output_type": "stream",
     "text": [
      "Epoch 20 | Train Loss: -0.5887528449377936\n"
     ]
    },
    {
     "name": "stderr",
     "output_type": "stream",
     "text": [
      " 44%|████▍     | 22/50 [00:06<00:08,  3.32it/s]"
     ]
    },
    {
     "name": "stdout",
     "output_type": "stream",
     "text": [
      "Epoch 21 | Train Loss: -0.5866119328562333\n"
     ]
    },
    {
     "name": "stderr",
     "output_type": "stream",
     "text": [
      " 46%|████▌     | 23/50 [00:06<00:08,  3.28it/s]"
     ]
    },
    {
     "name": "stdout",
     "output_type": "stream",
     "text": [
      "Epoch 22 | Train Loss: -0.5889250192629254\n"
     ]
    },
    {
     "name": "stderr",
     "output_type": "stream",
     "text": [
      " 48%|████▊     | 24/50 [00:06<00:08,  3.23it/s]"
     ]
    },
    {
     "name": "stdout",
     "output_type": "stream",
     "text": [
      "Epoch 23 | Train Loss: -0.6012370716051563\n"
     ]
    },
    {
     "name": "stderr",
     "output_type": "stream",
     "text": [
      " 50%|█████     | 25/50 [00:07<00:07,  3.21it/s]"
     ]
    },
    {
     "name": "stdout",
     "output_type": "stream",
     "text": [
      "Epoch 24 | Train Loss: -0.5935256474853857\n"
     ]
    },
    {
     "name": "stderr",
     "output_type": "stream",
     "text": [
      " 52%|█████▏    | 26/50 [00:07<00:07,  3.20it/s]"
     ]
    },
    {
     "name": "stdout",
     "output_type": "stream",
     "text": [
      "Epoch 25 | Train Loss: -0.604860110985844\n"
     ]
    },
    {
     "name": "stderr",
     "output_type": "stream",
     "text": [
      " 54%|█████▍    | 27/50 [00:07<00:07,  3.19it/s]"
     ]
    },
    {
     "name": "stdout",
     "output_type": "stream",
     "text": [
      "Epoch 26 | Train Loss: -0.6015929624357301\n"
     ]
    },
    {
     "name": "stderr",
     "output_type": "stream",
     "text": [
      " 56%|█████▌    | 28/50 [00:08<00:06,  3.17it/s]"
     ]
    },
    {
     "name": "stdout",
     "output_type": "stream",
     "text": [
      "Epoch 27 | Train Loss: -0.6036911980046527\n"
     ]
    },
    {
     "name": "stderr",
     "output_type": "stream",
     "text": [
      " 58%|█████▊    | 29/50 [00:08<00:06,  3.17it/s]"
     ]
    },
    {
     "name": "stdout",
     "output_type": "stream",
     "text": [
      "Epoch 28 | Train Loss: -0.6123349517421878\n"
     ]
    },
    {
     "name": "stderr",
     "output_type": "stream",
     "text": [
      " 60%|██████    | 30/50 [00:08<00:06,  3.16it/s]"
     ]
    },
    {
     "name": "stdout",
     "output_type": "stream",
     "text": [
      "Epoch 29 | Train Loss: -0.601037861722643\n"
     ]
    },
    {
     "name": "stderr",
     "output_type": "stream",
     "text": [
      " 62%|██████▏   | 31/50 [00:09<00:05,  3.17it/s]"
     ]
    },
    {
     "name": "stdout",
     "output_type": "stream",
     "text": [
      "Epoch 30 | Train Loss: -0.5983778388806336\n"
     ]
    },
    {
     "name": "stderr",
     "output_type": "stream",
     "text": [
      " 64%|██████▍   | 32/50 [00:09<00:05,  3.16it/s]"
     ]
    },
    {
     "name": "stdout",
     "output_type": "stream",
     "text": [
      "Epoch 31 | Train Loss: -0.605926869518083\n"
     ]
    },
    {
     "name": "stderr",
     "output_type": "stream",
     "text": [
      " 66%|██████▌   | 33/50 [00:09<00:05,  3.14it/s]"
     ]
    },
    {
     "name": "stdout",
     "output_type": "stream",
     "text": [
      "Epoch 32 | Train Loss: -0.6134305518120527\n"
     ]
    },
    {
     "name": "stderr",
     "output_type": "stream",
     "text": [
      " 68%|██████▊   | 34/50 [00:10<00:05,  3.14it/s]"
     ]
    },
    {
     "name": "stdout",
     "output_type": "stream",
     "text": [
      "Epoch 33 | Train Loss: -0.6127296073443216\n"
     ]
    },
    {
     "name": "stderr",
     "output_type": "stream",
     "text": [
      " 70%|███████   | 35/50 [00:10<00:04,  3.14it/s]"
     ]
    },
    {
     "name": "stdout",
     "output_type": "stream",
     "text": [
      "Epoch 34 | Train Loss: -0.6150567598397965\n"
     ]
    },
    {
     "name": "stderr",
     "output_type": "stream",
     "text": [
      " 72%|███████▏  | 36/50 [00:10<00:04,  3.14it/s]"
     ]
    },
    {
     "name": "stdout",
     "output_type": "stream",
     "text": [
      "Epoch 35 | Train Loss: -0.6135314994289175\n"
     ]
    },
    {
     "name": "stderr",
     "output_type": "stream",
     "text": [
      " 74%|███████▍  | 37/50 [00:11<00:04,  3.13it/s]"
     ]
    },
    {
     "name": "stdout",
     "output_type": "stream",
     "text": [
      "Epoch 36 | Train Loss: -0.6223691525059226\n"
     ]
    },
    {
     "name": "stderr",
     "output_type": "stream",
     "text": [
      " 76%|███████▌  | 38/50 [00:11<00:03,  3.13it/s]"
     ]
    },
    {
     "name": "stdout",
     "output_type": "stream",
     "text": [
      "Epoch 37 | Train Loss: -0.6211588457550692\n"
     ]
    },
    {
     "name": "stderr",
     "output_type": "stream",
     "text": [
      " 78%|███████▊  | 39/50 [00:11<00:03,  3.13it/s]"
     ]
    },
    {
     "name": "stdout",
     "output_type": "stream",
     "text": [
      "Epoch 38 | Train Loss: -0.6305402093040554\n"
     ]
    },
    {
     "name": "stderr",
     "output_type": "stream",
     "text": [
      " 80%|████████  | 40/50 [00:12<00:03,  3.12it/s]"
     ]
    },
    {
     "name": "stdout",
     "output_type": "stream",
     "text": [
      "Epoch 39 | Train Loss: -0.6223810281442559\n"
     ]
    },
    {
     "name": "stderr",
     "output_type": "stream",
     "text": [
      " 82%|████████▏ | 41/50 [00:12<00:02,  3.12it/s]"
     ]
    },
    {
     "name": "stdout",
     "output_type": "stream",
     "text": [
      "Epoch 40 | Train Loss: -0.6226992321484115\n"
     ]
    },
    {
     "name": "stderr",
     "output_type": "stream",
     "text": [
      " 84%|████████▍ | 42/50 [00:12<00:02,  3.12it/s]"
     ]
    },
    {
     "name": "stdout",
     "output_type": "stream",
     "text": [
      "Epoch 41 | Train Loss: -0.6388694108868747\n"
     ]
    },
    {
     "name": "stderr",
     "output_type": "stream",
     "text": [
      " 86%|████████▌ | 43/50 [00:12<00:02,  3.12it/s]"
     ]
    },
    {
     "name": "stdout",
     "output_type": "stream",
     "text": [
      "Epoch 42 | Train Loss: -0.6351990585741789\n"
     ]
    },
    {
     "name": "stderr",
     "output_type": "stream",
     "text": [
      " 88%|████████▊ | 44/50 [00:13<00:01,  3.11it/s]"
     ]
    },
    {
     "name": "stdout",
     "output_type": "stream",
     "text": [
      "Epoch 43 | Train Loss: -0.6274104411349348\n"
     ]
    },
    {
     "name": "stderr",
     "output_type": "stream",
     "text": [
      " 90%|█████████ | 45/50 [00:13<00:01,  3.11it/s]"
     ]
    },
    {
     "name": "stdout",
     "output_type": "stream",
     "text": [
      "Epoch 44 | Train Loss: -0.636331901051428\n"
     ]
    },
    {
     "name": "stderr",
     "output_type": "stream",
     "text": [
      " 92%|█████████▏| 46/50 [00:13<00:01,  3.11it/s]"
     ]
    },
    {
     "name": "stdout",
     "output_type": "stream",
     "text": [
      "Epoch 45 | Train Loss: -0.6504222961223644\n"
     ]
    },
    {
     "name": "stderr",
     "output_type": "stream",
     "text": [
      " 94%|█████████▍| 47/50 [00:14<00:00,  3.10it/s]"
     ]
    },
    {
     "name": "stdout",
     "output_type": "stream",
     "text": [
      "Epoch 46 | Train Loss: -0.6477749374735614\n"
     ]
    },
    {
     "name": "stderr",
     "output_type": "stream",
     "text": [
      " 96%|█████████▌| 48/50 [00:14<00:00,  3.09it/s]"
     ]
    },
    {
     "name": "stdout",
     "output_type": "stream",
     "text": [
      "Epoch 47 | Train Loss: -0.6559344680838125\n"
     ]
    },
    {
     "name": "stderr",
     "output_type": "stream",
     "text": [
      " 98%|█████████▊| 49/50 [00:14<00:00,  3.09it/s]"
     ]
    },
    {
     "name": "stdout",
     "output_type": "stream",
     "text": [
      "Epoch 48 | Train Loss: -0.6529668174684048\n"
     ]
    },
    {
     "name": "stderr",
     "output_type": "stream",
     "text": [
      "100%|██████████| 50/50 [00:15<00:00,  3.28it/s]"
     ]
    },
    {
     "name": "stdout",
     "output_type": "stream",
     "text": [
      "Epoch 49 | Train Loss: -0.6555453391907655\n"
     ]
    },
    {
     "name": "stderr",
     "output_type": "stream",
     "text": [
      "\n"
     ]
    }
   ],
   "source": [
    "for epoch in tqdm(range(args.n_epochs)):\n",
    "    epoch_loss = 0\n",
    "    model.train(True)\n",
    "    for feature, label in first_train_loader:\n",
    "        feature, label = feature.to(torch.float32).squeeze(0), label.to(torch.float32)\n",
    "        optimizer.zero_grad()\n",
    "        y_pred = model(feature).transpose(0, 1)\n",
    "        loss = criterion(y_pred, label)\n",
    "        loss.backward()\n",
    "        optimizer.step()\n",
    "        epoch_loss += loss.item()\n",
    "\n",
    "    print(f\"Epoch {epoch} | Train Loss: {epoch_loss / len(first_train_loader)}\")"
   ]
  },
  {
   "cell_type": "code",
   "execution_count": 108,
   "metadata": {},
   "outputs": [
    {
     "data": {
      "text/plain": [
       "(torch.Size([1, 20]), torch.Size([20, 1]))"
      ]
     },
     "execution_count": 108,
     "metadata": {},
     "output_type": "execute_result"
    }
   ],
   "source": []
  },
  {
   "cell_type": "code",
   "execution_count": null,
   "metadata": {},
   "outputs": [
    {
     "name": "stderr",
     "output_type": "stream",
     "text": [
      " 91%|█████████▏| 32/35 [00:00<00:00, 1926.42it/s]\n"
     ]
    }
   ],
   "source": [
    "# for i in tqdm(range(0, len(subset), test_scale)):\n",
    "#     if i + tot_scale > len(subset):\n",
    "#         break\n",
    "\n",
    "#     train.append(subset.iloc[i: i+train_scale])\n",
    "#     val.append(subset.iloc[i+train_scale: i+train_scale+val_scale])\n",
    "#     test.append(subset.iloc[i+train_scale+val_scale: i+train_scale+val_scale+test_scale])"
   ]
  },
  {
   "cell_type": "code",
   "execution_count": 31,
   "metadata": {},
   "outputs": [],
   "source": [
    "train = np.array(train)\n",
    "val = np.array(val)\n",
    "test = np.array(test)"
   ]
  },
  {
   "cell_type": "code",
   "execution_count": 5,
   "metadata": {},
   "outputs": [],
   "source": [
    "class AlphaDataset(Dataset):\n",
    "    def __init__(self, stock_data, label):\n",
    "        self.stock_data = stock_data\n",
    "        self.price_features = [\"開盤價\", \"最高價\", \"最低價\", \"收盤價\"]\n",
    "        self.volume_features = [\"成交股數\"]\n",
    "        self.features = self.price_features + self.volume_features\n",
    "        self.label = label\n",
    "        self._normalize()\n",
    "\n",
    "    def _normalize(self):\n",
    "        self.stock_data[self.price_features] = (\n",
    "            self.stock_data[self.price_features]\n",
    "            .sub(self.stock_data[self.price_features].mean(axis=1), axis=0)\n",
    "            .div(self.stock_data[self.price_features].std(axis=1), axis=0)\n",
    "        )\n",
    "\n",
    "        self.stock_data[self.volume_features] = (\n",
    "            self.stock_data[self.volume_features]\n",
    "            - self.stock_data[self.volume_features].min()\n",
    "        ) / (\n",
    "            self.stock_data[self.volume_features].max()\n",
    "            - self.stock_data[self.volume_features].min()\n",
    "        )\n",
    "\n",
    "    def __len__(self):\n",
    "        return len(self.stock_data) - 1\n",
    "\n",
    "    def __getitem__(self, idx):\n",
    "        features = self.stock_data[self.features]\n",
    "        label = self.stock_data[self.label]\n",
    "\n",
    "        return features.iloc[idx].values, label.iloc[idx]"
   ]
  },
  {
   "cell_type": "code",
   "execution_count": 49,
   "metadata": {},
   "outputs": [],
   "source": [
    "class NeuralAlpha(nn.Module):\n",
    "    def __init__(self, input_dim, hidden_dim, output_dim, dropout):\n",
    "        super().__init__()\n",
    "        self.model = nn.Sequential(\n",
    "            nn.Linear(input_dim, hidden_dim),\n",
    "            nn.ReLU(),\n",
    "            nn.LayerNorm(hidden_dim),\n",
    "            nn.Dropout(dropout),\n",
    "            nn.Linear(hidden_dim, hidden_dim),\n",
    "            nn.ReLU(),\n",
    "            nn.LayerNorm(hidden_dim),\n",
    "            nn.Dropout(),\n",
    "            nn.Linear(hidden_dim, 64),\n",
    "            nn.Linear(64, 32),\n",
    "            nn.Linear(32, output_dim),\n",
    "        )\n",
    "\n",
    "    def forward(self, x):\n",
    "        return self.model(x)"
   ]
  },
  {
   "cell_type": "code",
   "execution_count": 50,
   "metadata": {},
   "outputs": [],
   "source": [
    "class Args:\n",
    "    def __init__(self):\n",
    "        self.hidden_dim = 128\n",
    "        self.output_dim = 1\n",
    "        self.n_epochs = 10\n",
    "        self.lr = 1e-3\n",
    "        self.batch_size = 256\n",
    "\n",
    "\n",
    "args = Args()"
   ]
  },
  {
   "cell_type": "code",
   "execution_count": 51,
   "metadata": {},
   "outputs": [],
   "source": [
    "train_dataset = AlphaDataset(subset_train, \"next_day_ret\")\n",
    "train_loader = DataLoader(train_dataset, batch_size=args.batch_size, shuffle=True)\n",
    "test_dataset = AlphaDataset(subset_test, \"next_day_ret\")\n",
    "test_loader = DataLoader(test_dataset, batch_size=args.batch_size, shuffle=False)\n",
    "model = NeuralAlpha(\n",
    "    input_dim=len(train_dataset.features),\n",
    "    hidden_dim=args.hidden_dim,\n",
    "    output_dim=args.output_dim,\n",
    "    dropout=0.0,\n",
    ")\n",
    "criterion = nn.MSELoss()\n",
    "optimier = torch.optim.Adam(model.parameters(), lr=args.lr)"
   ]
  },
  {
   "cell_type": "code",
   "execution_count": null,
   "metadata": {},
   "outputs": [],
   "source": [
    "for epoch in tqdm(range(args.n_epochs)):\n",
    "    epoch_loss = 0\n",
    "    for feature, label in train_loader:\n",
    "        feature, label = feature.to(torch.float32), label.to(torch.float32)\n",
    "        model.train()\n",
    "        y_pred = model(feature).squeeze()\n",
    "        loss = criterion(y_pred, label)\n",
    "        loss.backward()\n",
    "        nn.utils.clip_grad_value_(model.parameters(), 1)\n",
    "        optimier.step()\n",
    "        optimier.zero_grad()\n",
    "        epoch_loss += loss.item()\n",
    "\n",
    "        print(f\"Epoch {epoch} | Train Loss: {epoch_loss}\")\n",
    "        # break\n",
    "\n",
    "# model.eval()\n",
    "# test_loss = 0\n",
    "# for feature, label in test_loader:\n",
    "#     feature, label = feature.to(torch.float32), label.to(torch.float32)\n",
    "#     with torch.no_grad():\n",
    "#         model.eval()\n",
    "#         y_pred = model(feature).squeeze()\n",
    "#         loss = criterion(y_pred, label)\n",
    "#         test_loss += loss.item()\n",
    "\n",
    "# print(f\"Test Loss: {test_loss / len(test_loader)}\")"
   ]
  }
 ],
 "metadata": {
  "kernelspec": {
   "display_name": ".venv",
   "language": "python",
   "name": "python3"
  },
  "language_info": {
   "codemirror_mode": {
    "name": "ipython",
    "version": 3
   },
   "file_extension": ".py",
   "mimetype": "text/x-python",
   "name": "python",
   "nbconvert_exporter": "python",
   "pygments_lexer": "ipython3",
   "version": "3.10.16"
  }
 },
 "nbformat": 4,
 "nbformat_minor": 2
}

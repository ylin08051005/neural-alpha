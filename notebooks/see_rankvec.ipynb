{
 "cells": [
  {
   "cell_type": "code",
   "execution_count": 1,
   "metadata": {},
   "outputs": [],
   "source": [
    "import os\n",
    "import sys\n",
    "\n",
    "sys.path.append(\"../\")\n",
    "\n",
    "from glob import glob\n",
    "from argparse import ArgumentParser, Namespace\n",
    "\n",
    "import numpy as np\n",
    "import pandas as pd\n",
    "import torch\n",
    "import wandb\n",
    "from omegaconf import DictConfig, OmegaConf\n",
    "from rich.progress import track\n",
    "from tqdm import tqdm\n",
    "from torch.utils.data import DataLoader\n",
    "\n",
    "from src.dataset import preprocess, TrainAlphaDataset\n",
    "from src.portfolio import PortfolioFormer\n",
    "from src.trainer import MultiAlphaTrainer\n",
    "from src.model.nn_model import AlphaSelfAttention\n",
    "from src.model.loss import ICLoss, InverseICLoss\n",
    "from src.utils.utils import dict2mat, seed_all, rolling"
   ]
  },
  {
   "cell_type": "code",
   "execution_count": 2,
   "metadata": {},
   "outputs": [
    {
     "name": "stdout",
     "output_type": "stream",
     "text": [
      "{'symlink_path': '../data/symlink', 'folder_path': None, 'gpuid': 0, 'quick_expr': True, 'train_scale': 561, 'look_back_window': 60, 'direction': 'pos', 'label_type': 'cumret', 'future_window': 5, 'wandb_track': False, 'n_epochs': 100, 'batch_size': 1, 'loss_multiplier': 1.0, 'threshold': 0.05}\n"
     ]
    }
   ],
   "source": [
    "parser = ArgumentParser()\n",
    "parser.add_argument(\"--symlink_path\", type=str, default=\"data/symlink\")\n",
    "parser.add_argument(\"--folder_path\", type=str)\n",
    "parser.add_argument(\"--gpuid\", type=int, default=0)\n",
    "parser.add_argument(\"--quick_expr\", action=\"store_true\")\n",
    "parser.add_argument(\"--train_scale\", type=int, default=561)\n",
    "parser.add_argument(\"--look_back_window\", type=int, default=60)\n",
    "parser.add_argument(\"--direction\", type=str, default=\"pos\")\n",
    "parser.add_argument(\"--label_type\", type=str, default=\"cumret\")\n",
    "parser.add_argument(\"--future_window\", type=int, default=5)\n",
    "parser.add_argument(\"--wandb_track\", action=\"store_true\")\n",
    "parser.add_argument(\"--n_epochs\", type=int, default=50)\n",
    "parser.add_argument(\"--batch_size\", type=int, default=1)\n",
    "parser.add_argument(\"--loss_multiplier\", type=float, default=1.0)\n",
    "parser.add_argument(\"--threshold\", type=float, default=0.1)\n",
    "\n",
    "args = parser.parse_args(\n",
    "    \"--symlink_path ../data/symlink \"\n",
    "    \"--quick_expr \"\n",
    "    \"--train_scale 561 \"\n",
    "    \"--look_back_window 60 \"\n",
    "    \"--direction pos \"\n",
    "    \"--label_type cumret \"\n",
    "    \"--future_window 5 \"\n",
    "    \"--n_epochs 100 \"\n",
    "    \"--batch_size 1 \"\n",
    "    \"--threshold 0.05 \".split()\n",
    ")\n",
    "print(args.__dict__)"
   ]
  },
  {
   "cell_type": "code",
   "execution_count": 3,
   "metadata": {},
   "outputs": [
    {
     "data": {
      "application/vnd.jupyter.widget-view+json": {
       "model_id": "4f2fb857e95a4a5b9830ea436b39d083",
       "version_major": 2,
       "version_minor": 0
      },
      "text/plain": [
       "Output()"
      ]
     },
     "metadata": {},
     "output_type": "display_data"
    },
    {
     "data": {
      "text/html": [
       "<pre style=\"white-space:pre;overflow-x:auto;line-height:normal;font-family:Menlo,'DejaVu Sans Mono',consolas,'Courier New',monospace\"></pre>\n"
      ],
      "text/plain": []
     },
     "metadata": {},
     "output_type": "display_data"
    },
    {
     "data": {
      "application/vnd.jupyter.widget-view+json": {
       "model_id": "389bd28492204de981de0b5b25069fc5",
       "version_major": 2,
       "version_minor": 0
      },
      "text/plain": [
       "Output()"
      ]
     },
     "metadata": {},
     "output_type": "display_data"
    },
    {
     "data": {
      "text/html": [
       "<pre style=\"white-space:pre;overflow-x:auto;line-height:normal;font-family:Menlo,'DejaVu Sans Mono',consolas,'Courier New',monospace\"></pre>\n"
      ],
      "text/plain": []
     },
     "metadata": {},
     "output_type": "display_data"
    },
    {
     "name": "stdout",
     "output_type": "stream",
     "text": [
      "Data preparation complete\n"
     ]
    }
   ],
   "source": [
    "stock_conf = OmegaConf.load(\"../config/selected_stocks.yaml\")\n",
    "seed_all(2025)\n",
    "\n",
    "if args.symlink_path:    \n",
    "    folder_path = os.readlink(args.symlink_path)\n",
    "else:\n",
    "    folder_path = args.folder_path\n",
    "\n",
    "device = f\"cuda:{args.gpuid}\" if torch.cuda.is_available() else \"cpu\"\n",
    "stock = {}\n",
    "\n",
    "for _, path in track(\n",
    "    enumerate(glob(f\"{folder_path}/*.csv\")), description=\"Loading files...\"\n",
    "):\n",
    "    curr_df = pd.read_csv(path)\n",
    "    stock_name = os.path.basename(path).split(\".\")[0]\n",
    "\n",
    "    if len(curr_df) >= 4000:\n",
    "        stock[stock_name] = curr_df\n",
    "\n",
    "if args.quick_expr:\n",
    "    subset = {k: stock[k] for k in list(stock_conf.for_expr)}\n",
    "else:\n",
    "    subset = stock\n",
    "\n",
    "stock_amount = len(subset)\n",
    "shortest_sequence = min([len(v) for v in subset.values()])\n",
    "preprocessed = preprocess(\n",
    "    subset,\n",
    "    args.label_type,\n",
    "    args.future_window,\n",
    "    args.direction\n",
    ")\n",
    "first_train, test = dict2mat(preprocessed, args.train_scale, shortest_sequence)\n",
    "first_train = np.transpose(first_train, (1, 0, 2))  # (days, stocks, features)\n",
    "test = np.transpose(test, (1, 0, 2))  # (days, stocks, label)\n",
    "\n",
    "tr_window_feat, tr_window_label = rolling(\n",
    "    first_train, args.look_back_window\n",
    ")  # (n_day - lbw, n_stocks, n_feat * lbw), (n_day - lbw, n_stocks, n_feat * lbw)\n",
    "ts_window_feat, ts_window_label = rolling(test, args.look_back_window)\n",
    "first_train_dataset = TrainAlphaDataset(tr_window_feat, tr_window_label)\n",
    "first_train_loader = DataLoader(\n",
    "    first_train_dataset,\n",
    "    batch_size=args.batch_size,\n",
    "    shuffle=True\n",
    ")\n",
    "\n",
    "print(\"Data preparation complete\")"
   ]
  },
  {
   "cell_type": "code",
   "execution_count": 4,
   "metadata": {},
   "outputs": [
    {
     "name": "stderr",
     "output_type": "stream",
     "text": [
      "3667it [00:00, 18207.11it/s]\n"
     ]
    }
   ],
   "source": [
    "model = AlphaSelfAttention(\n",
    "    input_dim=tr_window_feat.shape[-1],\n",
    "    embed_dim=128,\n",
    "    num_heads=1,\n",
    "    dropout=0.1,\n",
    "    kdim=None,\n",
    "    vdim=None,\n",
    "    final_output_dim=10,\n",
    "    device=device,\n",
    "    dtype=torch.float32,\n",
    "    value_weight_type=\"vanilla\",\n",
    ").to(device)\n",
    "\n",
    "model_path = f\"vanilla_attn_epoch_{args.n_epochs}_bs{args.batch_size}_tr_{args.train_scale}_lbw_{args.look_back_window}_fw_{args.future_window}{args.direction}{args.label_type}.pt\"\n",
    "label_loss = ICLoss(ic_type=\"spearman\")\n",
    "pool_loss = InverseICLoss(ic_type=\"spearman\")\n",
    "optimizer = torch.optim.AdamW(model.parameters(), lr=1e-4)\n",
    "trainer = MultiAlphaTrainer(\n",
    "    model,\n",
    "    \"attention\",\n",
    "    label_loss,\n",
    "    pool_loss,\n",
    "    device,\n",
    "    model_path\n",
    ")\n",
    "\n",
    "train = False\n",
    "if train:\n",
    "    trainer.multi_asset_train(args.n_epochs, first_train_loader, optimizer)\n",
    "else:\n",
    "    model_type = \"attention\"\n",
    "    model.load_state_dict(\n",
    "        torch.load(\n",
    "            f\"../model/{model_path}\",\n",
    "            map_location=device,\n",
    "        )\n",
    "    )\n",
    "\n",
    "    y_preds = []\n",
    "\n",
    "    for i, (test_features, test_label) in tqdm(enumerate(zip(ts_window_feat, ts_window_label))):\n",
    "        if i % args.future_window == 0:\n",
    "            if model_type == \"attention\":\n",
    "                test_features, test_label = (\n",
    "                    torch.tensor(test_features, dtype=torch.float32).unsqueeze(0),\n",
    "                    torch.tensor(test_label, dtype=torch.float32).unsqueeze(0),\n",
    "                )\n",
    "            else:\n",
    "                test_features, test_label = (\n",
    "                    torch.tensor(test_features, dtype=torch.float32),\n",
    "                    torch.tensor(test_label, dtype=torch.float32),\n",
    "                )\n",
    "            with torch.no_grad():\n",
    "                model.train(False)\n",
    "                y_pred = model(test_features)\n",
    "\n",
    "            y_preds.append(y_pred[0].cpu().numpy())"
   ]
  },
  {
   "cell_type": "code",
   "execution_count": 11,
   "metadata": {},
   "outputs": [],
   "source": [
    "pf = PortfolioFormer(\n",
    "    train_scale=args.train_scale,\n",
    "    look_back_window=args.look_back_window,\n",
    "    shortest_seq=shortest_sequence,\n",
    "    future_window=args.future_window,\n",
    "    num_stocks=stock_amount\n",
    ")\n",
    "lrf, srf, brf, prf = pf.form_portfolio(y_preds, subset, 2, 2)"
   ]
  },
  {
   "cell_type": "code",
   "execution_count": 12,
   "metadata": {},
   "outputs": [
    {
     "data": {
      "image/png": "[encoded data removed]",
      "text/plain": [
       "<Figure size 640x480 with 1 Axes>"
      ]
     },
     "metadata": {},
     "output_type": "display_data"
    }
   ],
   "source": [
    "import matplotlib.pyplot as plt\n",
    "plt.style.use(\"default\")\n",
    "\n",
    "\n",
    "plt.plot(np.cumprod(1 + lrf), label=\"Long Only\", alpha=0.5)\n",
    "plt.plot(np.cumprod(1 + srf), label=\"Short Only\", alpha=0.5)\n",
    "plt.plot(np.cumprod(1 + prf), label=\"Portfolio\", alpha=0.8)\n",
    "plt.plot(np.cumprod(1 + brf), label=\"Benchmark\", alpha=0.5)\n",
    "plt.legend()\n",
    "plt.show()"
   ]
  },
  {
   "cell_type": "code",
   "execution_count": 13,
   "metadata": {},
   "outputs": [],
   "source": [
    "class Metrics:\n",
    "    def __init__(\n",
    "        self, ret_sequence: list[np.ndarray]\n",
    "    ) -> None:\n",
    "        self.rets = ret_sequence\n",
    "\n",
    "    def annual_ret(self, ret):\n",
    "        return np.mean(ret) * 252\n",
    "\n",
    "    def sharpe(self, ret):\n",
    "        return (np.mean(ret) / np.std(ret)) * np.sqrt(252)\n",
    "\n",
    "    def mdd(self, ret):\n",
    "        cumsumret = ret.cumsum()\n",
    "        running_max = np.maximum.accumulate(cumsumret)\n",
    "        dd = cumsumret - running_max\n",
    "        mdd = -1 * np.min(dd)\n",
    "\n",
    "        return mdd\n",
    "\n",
    "    def calmar(self, ret):\n",
    "        return self.annual_ret(ret) / self.mdd(ret)\n",
    "\n",
    "    def read(self, strats: list[str]):\n",
    "        for i, ret in enumerate(self.rets):\n",
    "            dic = {\n",
    "                \"annual return\": self.annual_ret(ret),\n",
    "                \"annual sharpe\": self.sharpe(ret),\n",
    "                \"mdd\": self.mdd(ret),\n",
    "                \"calmar\": self.calmar(ret)\n",
    "            }\n",
    "            print(f\"{strats[i]} performance: {dic}\")"
   ]
  },
  {
   "cell_type": "code",
   "execution_count": 14,
   "metadata": {},
   "outputs": [
    {
     "name": "stdout",
     "output_type": "stream",
     "text": [
      "Long Only performance: {'annual return': 0.10035336453621486, 'annual sharpe': 0.48258050013437376, 'mdd': 0.4830016174154972, 'calmar': 0.20777024531138766}\n",
      "Short Only performance: {'annual return': -0.04059829113990108, 'annual sharpe': -0.18165975312936888, 'mdd': 1.4767556288057238, 'calmar': -0.027491543182898565}\n",
      "Portfolio performance: {'annual return': 0.02987753669815689, 'annual sharpe': 0.2252197374368453, 'mdd': 0.2856358142501907, 'calmar': 0.10460010687590779}\n",
      "Benchmark performance: {'annual return': 0.08016441497066336, 'annual sharpe': 0.6143729963586019, 'mdd': 0.3188801857408039, 'calmar': 0.25139352821320665}\n"
     ]
    }
   ],
   "source": [
    "met = Metrics([lrf, srf, prf, brf])\n",
    "met.read([\"Long Only\", \"Short Only\", \"Portfolio\", \"Benchmark\"])"
   ]
  }
 ],
 "metadata": {
  "kernelspec": {
   "display_name": ".venv",
   "language": "python",
   "name": "python3"
  },
  "language_info": {
   "codemirror_mode": {
    "name": "ipython",
    "version": 3
   },
   "file_extension": ".py",
   "mimetype": "text/x-python",
   "name": "python",
   "nbconvert_exporter": "python",
   "pygments_lexer": "ipython3",
   "version": "3.10.16"
  }
 },
 "nbformat": 4,
 "nbformat_minor": 2
}
